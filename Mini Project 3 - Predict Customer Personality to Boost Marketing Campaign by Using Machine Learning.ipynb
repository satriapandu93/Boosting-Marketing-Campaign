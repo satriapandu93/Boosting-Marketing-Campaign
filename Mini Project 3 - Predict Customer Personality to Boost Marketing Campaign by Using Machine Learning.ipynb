{
 "cells": [
  {
   "cell_type": "markdown",
   "id": "192f5ed1-a857-4ee1-af22-83843ede4df2",
   "metadata": {},
   "source": [
    "# 1. Mini Project Predict Customer Personality to Boost Marketing Campaign by Using Machine Learning"
   ]
  },
  {
   "cell_type": "code",
   "execution_count": null,
   "id": "b1eab75c-243e-4df8-81ba-37e85ec15a48",
   "metadata": {},
   "outputs": [],
   "source": []
  }
 ],
 "metadata": {
  "kernelspec": {
   "display_name": "Python 3 (ipykernel)",
   "language": "python",
   "name": "python3"
  },
  "language_info": {
   "codemirror_mode": {
    "name": "ipython",
    "version": 3
   },
   "file_extension": ".py",
   "mimetype": "text/x-python",
   "name": "python",
   "nbconvert_exporter": "python",
   "pygments_lexer": "ipython3",
   "version": "3.11.5"
  }
 },
 "nbformat": 4,
 "nbformat_minor": 5
}
